{
 "cells": [
  {
   "cell_type": "markdown",
   "metadata": {},
   "source": [
    "# Fake Nodes\n",
    "\n",
    "Fake nodes is a new approach for interpolation, allowing to obtain more stable and more precise interpolation **without the need of resampling**. \n",
    "\n",
    "![fig1](runge_interp.png)\n",
    "\n"
   ]
  },
  {
   "cell_type": "markdown",
   "metadata": {},
   "source": [
    "The method works in a simple way. Given:\n",
    "\n",
    "* a training set of $n$ samples $X_n$,\n",
    "* the corresponding output $Y_n = f(X_n)$,\n",
    "* a test set $X$,\n",
    "\n",
    "we have to compute the predicted output $Y \\approx f(X)$ by interpolation.\n",
    "\n",
    "Instead of using directly the intepolation of the pairs $(X_n,Y_n)$, we propose to compute $\\Pi$, the interpolant of $(S(X_n),Y_n)$, being $S$ a properly chosen (injective) mapping. The predicted output wil be $\\Pi(S(X))$.\n",
    "\n",
    "In the next notebooks we will show the treatment of two classical phenomena in polynomial interpolation: the [Runge effect](Runge.ipynb) effect and the [Gibbs effect](Gibbs.ipynb) effect."
   ]
  },
  {
   "cell_type": "markdown",
   "metadata": {},
   "source": [
    "![fig1](gibbs_interp2.png)"
   ]
  }
 ],
 "metadata": {
  "kernelspec": {
   "display_name": "Python [conda env:py36]",
   "language": "python",
   "name": "conda-env-py36-py"
  },
  "language_info": {
   "codemirror_mode": {
    "name": "ipython",
    "version": 3
   },
   "file_extension": ".py",
   "mimetype": "text/x-python",
   "name": "python",
   "nbconvert_exporter": "python",
   "pygments_lexer": "ipython3",
   "version": "3.6.6"
  }
 },
 "nbformat": 4,
 "nbformat_minor": 2
}
